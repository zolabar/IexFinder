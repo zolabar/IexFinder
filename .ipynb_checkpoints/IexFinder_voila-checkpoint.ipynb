{
 "cells": [
  {
   "cell_type": "code",
   "execution_count": 1,
   "metadata": {},
   "outputs": [],
   "source": [
    "from IPython.display import HTML"
   ]
  },
  {
   "cell_type": "code",
   "execution_count": 6,
   "metadata": {},
   "outputs": [
    {
     "data": {
      "text/html": [
       "<h1 style=\"font-size:30px;\"><center>Interactive Symbolic Calculation of Extreme Values</center></h1>"
      ],
      "text/plain": [
       "<IPython.core.display.HTML object>"
      ]
     },
     "execution_count": 6,
     "metadata": {},
     "output_type": "execute_result"
    }
   ],
   "source": [
    "title='Interactive Symbolic Calculation of Extreme Values'\n",
    "HTML('<h1 style=\"font-size:30px;\"><center>%s</center></h1>'%title)"
   ]
  },
  {
   "cell_type": "code",
   "execution_count": 22,
   "metadata": {},
   "outputs": [
    {
     "data": {
      "text/html": [
       "<center><b>Zoufiné Lauer-Baré </b><a href=\"https://orcid.org/0000-0002-7083-6909\">(Orcid, </a><a href=\"https://www.linkedin.com/in/zoufine-lauer-bare-14677a77\"> LinkedIN)</a></center>"
      ],
      "text/plain": [
       "<IPython.core.display.HTML object>"
      ]
     },
     "execution_count": 22,
     "metadata": {},
     "output_type": "execute_result"
    }
   ],
   "source": [
    "HTML('<center><b>Zoufiné Lauer-Baré </b><a href=\"https://orcid.org/0000-0002-7083-6909\">(Orcid, </a><a href=\"https://www.linkedin.com/in/zoufine-lauer-bare-14677a77\"> LinkedIN)</a></center>')"
   ]
  },
  {
   "cell_type": "markdown",
   "metadata": {},
   "source": [
    "\n",
    "The ```exFinder``` web application calculates the extreme values of multivariate functions $$f:\\mathbb{R}^2\\to\\mathbb{R}$$ symbolically. It is based mathematically on ```SymPy``` and ```NumPy``` and graphically on ```Jupyter Notebook```, ```Plotly``` and ```Voila```. Code on [IexFinder github repository](https://github.com/zolabar/IexFinder).\n",
    "\n",
    "**Usage:** Enter a function in $x$ and $y$ in Pythonic form into the input field and click on the update button."
   ]
  },
  {
   "cell_type": "code",
   "execution_count": 1,
   "metadata": {},
   "outputs": [],
   "source": [
    "from exFinder.IexFinder import *"
   ]
  },
  {
   "cell_type": "code",
   "execution_count": 2,
   "metadata": {},
   "outputs": [
    {
     "data": {
      "application/vnd.jupyter.widget-view+json": {
       "model_id": "711a884c33b14120a9a29391c7e2542e",
       "version_major": 2,
       "version_minor": 0
      },
      "text/plain": [
       "VBox(children=(HBox(children=(Text(value='x**2*(x + 1) + y**2*(x - 1)', description='$f(x, y)=$'), Button(desc…"
      ]
     },
     "metadata": {},
     "output_type": "display_data"
    }
   ],
   "source": [
    "\n",
    "p = Xtreme()\n",
    "\n",
    "p.compute()\n"
   ]
  },
  {
   "cell_type": "markdown",
   "metadata": {},
   "source": [
    "## Common Benchmark Examples in Nonlinear Optimization (Minimization)"
   ]
  },
  {
   "cell_type": "markdown",
   "metadata": {},
   "source": [
    "[Rosenbrock function](https://en.wikipedia.org/wiki/Rosenbrock_function) pythonic:```(2-x)**2+(y-x**2)**2``` \n",
    "$$f(x, y) = (2-x)^2+(y-x^2)^2$$"
   ]
  },
  {
   "cell_type": "markdown",
   "metadata": {},
   "source": [
    "[Himmelblau function](https://en.wikipedia.org/wiki/Himmelblau%27s_function) pythonic:```(x**2+y-11)**2+(x+y**2-7)**2``` \n",
    "$$f(x, y) =(x^2+y-11)^2+(x+y^2-7)^2$$"
   ]
  },
  {
   "cell_type": "markdown",
   "metadata": {},
   "source": [
    "## Mention this project as\n",
    "\n",
    "Zoufiné Lauer-Baré. (2021). IexFinder: Interactive Symbolic Calculation of Extreme Values (v1.0.2). Zenodo. https://doi.org/10.5281/zenodo.5707405"
   ]
  },
  {
   "cell_type": "code",
   "execution_count": null,
   "metadata": {},
   "outputs": [],
   "source": []
  }
 ],
 "metadata": {
  "kernelspec": {
   "display_name": "Python 3",
   "language": "python",
   "name": "python3"
  },
  "language_info": {
   "codemirror_mode": {
    "name": "ipython",
    "version": 3
   },
   "file_extension": ".py",
   "mimetype": "text/x-python",
   "name": "python",
   "nbconvert_exporter": "python",
   "pygments_lexer": "ipython3",
   "version": "3.8.8"
  },
  "varInspector": {
   "cols": {
    "lenName": 16,
    "lenType": 16,
    "lenVar": 40
   },
   "kernels_config": {
    "python": {
     "delete_cmd_postfix": "",
     "delete_cmd_prefix": "del ",
     "library": "var_list.py",
     "varRefreshCmd": "print(var_dic_list())"
    },
    "r": {
     "delete_cmd_postfix": ") ",
     "delete_cmd_prefix": "rm(",
     "library": "var_list.r",
     "varRefreshCmd": "cat(var_dic_list()) "
    }
   },
   "types_to_exclude": [
    "module",
    "function",
    "builtin_function_or_method",
    "instance",
    "_Feature"
   ],
   "window_display": false
  }
 },
 "nbformat": 4,
 "nbformat_minor": 4
}

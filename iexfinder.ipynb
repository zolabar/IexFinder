{
 "cells": [
  {
   "cell_type": "code",
   "execution_count": 1,
   "metadata": {},
   "outputs": [],
   "source": [
    "from exFinder.IexFinder import *\n",
    "from IPython.display import HTML\n",
    "from pandas.io.formats.style import Styler\n",
    "\n",
    "EasyStyler = Styler.from_custom_template(\"templates\", \"myhtml.tpl\")   "
   ]
  },
  {
   "cell_type": "code",
   "execution_count": 2,
   "metadata": {},
   "outputs": [],
   "source": [
    "def exFinder(f):\n",
    "    stsf = Xtreme()\n",
    "\n",
    "    data = pd.DataFrame()\n",
    "    data['stat Point'], data['Eigenvalues'], data['Type']  = stsf.exFinder(f)\n",
    "    \n",
    "    return HTML(EasyStyler(data).render(table_title=r\"$f(x,y)=%s, H_f=%s$\"%(sym.latex(f), sym.latex(stsf.H(f)))))  "
   ]
  },
  {
   "cell_type": "markdown",
   "metadata": {},
   "source": [
    "# Symbolic Calculation of Extreme Values\n",
    "### Zoufiné Lauer-Baré ([LinkedIn](https://www.linkedin.com/in/zoufine-lauer-bare-14677a77), [OrcidID](https://orcid.org/0000-0002-7083-6909))\n",
    "\n",
    "The ```exFinder``` package, provides methods that calculate the extreme values of multivariate functions $$f:\\mathbb{R}^2\\to\\mathbb{R}$$ symbolically. It is based mathematically on ```SymPy``` and ```NumPy```."
   ]
  },
  {
   "cell_type": "code",
   "execution_count": 3,
   "metadata": {},
   "outputs": [
    {
     "data": {
      "text/html": [
       "\n",
       "\n",
       "<h1>$f(x,y)=\\left(x - 2\\right)^{4} + \\left(x - 2 y\\right)^{2}, H_f=\\left[\\begin{matrix}2 \\left(3 x + 1\\right) & 2 y\\\\2 y & 2 \\left(x - 1\\right)\\end{matrix}\\right]$</h1>\n",
       "\n",
       "\n",
       "<table id=\"T_860a0_\">\n",
       "\n",
       "\n",
       "\n",
       "\n",
       "\n",
       "  <thead>\n",
       "\n",
       "\n",
       "\n",
       "    <tr>\n",
       "\n",
       "\n",
       "\n",
       "      <th class=\"blank level0\" ></th>\n",
       "\n",
       "\n",
       "\n",
       "      <th class=\"col_heading level0 col0\" >stat Point</th>\n",
       "\n",
       "\n",
       "\n",
       "      <th class=\"col_heading level0 col1\" >Eigenvalues</th>\n",
       "\n",
       "\n",
       "\n",
       "      <th class=\"col_heading level0 col2\" >Type</th>\n",
       "\n",
       "\n",
       "\n",
       "    </tr>\n",
       "\n",
       "\n",
       "\n",
       "  </thead>\n",
       "\n",
       "\n",
       "  <tbody>\n",
       "\n",
       "\n",
       "\n",
       "    <tr>\n",
       "\n",
       "\n",
       "      <th id=\"T_860a0__level0_row0\" class=\"row_heading level0 row0\" >0</th>\n",
       "\n",
       "      <td id=\"T_860a0__row0_col0\" class=\"data row0 col0\" >(2, 1)</td>\n",
       "\n",
       "      <td id=\"T_860a0__row0_col1\" class=\"data row0 col1\" >{10: 1, 0: 1}</td>\n",
       "\n",
       "      <td id=\"T_860a0__row0_col2\" class=\"data row0 col2\" >not classifiable</td>\n",
       "\n",
       "\n",
       "    </tr>\n",
       "\n",
       "\n",
       "\n",
       "  </tbody>\n",
       "\n",
       "</table>\n",
       "\n",
       "\n"
      ],
      "text/plain": [
       "<IPython.core.display.HTML object>"
      ]
     },
     "execution_count": 3,
     "metadata": {},
     "output_type": "execute_result"
    }
   ],
   "source": [
    "f = (x-2)**4+(x-2*y)**2\n",
    "\n",
    "exFinder(f)"
   ]
  },
  {
   "cell_type": "code",
   "execution_count": 4,
   "metadata": {},
   "outputs": [
    {
     "data": {
      "text/html": [
       "\n",
       "\n",
       "<h1>$f(x,y)=x^{2} \\left(x + 1\\right) + y^{2} \\left(x - 1\\right), H_f=\\left[\\begin{matrix}2 \\left(3 x + 1\\right) & 2 y\\\\2 y & 2 \\left(x - 1\\right)\\end{matrix}\\right]$</h1>\n",
       "\n",
       "\n",
       "<table id=\"T_479c8_\">\n",
       "\n",
       "\n",
       "\n",
       "\n",
       "\n",
       "  <thead>\n",
       "\n",
       "\n",
       "\n",
       "    <tr>\n",
       "\n",
       "\n",
       "\n",
       "      <th class=\"blank level0\" ></th>\n",
       "\n",
       "\n",
       "\n",
       "      <th class=\"col_heading level0 col0\" >stat Point</th>\n",
       "\n",
       "\n",
       "\n",
       "      <th class=\"col_heading level0 col1\" >Eigenvalues</th>\n",
       "\n",
       "\n",
       "\n",
       "      <th class=\"col_heading level0 col2\" >Type</th>\n",
       "\n",
       "\n",
       "\n",
       "    </tr>\n",
       "\n",
       "\n",
       "\n",
       "  </thead>\n",
       "\n",
       "\n",
       "  <tbody>\n",
       "\n",
       "\n",
       "\n",
       "    <tr>\n",
       "\n",
       "\n",
       "      <th id=\"T_479c8__level0_row0\" class=\"row_heading level0 row0\" >0</th>\n",
       "\n",
       "      <td id=\"T_479c8__row0_col0\" class=\"data row0 col0\" >(-2/3, 0)</td>\n",
       "\n",
       "      <td id=\"T_479c8__row0_col1\" class=\"data row0 col1\" >{-2: 1, -10/3: 1}</td>\n",
       "\n",
       "      <td id=\"T_479c8__row0_col2\" class=\"data row0 col2\" >max</td>\n",
       "\n",
       "\n",
       "    </tr>\n",
       "\n",
       "\n",
       "\n",
       "    <tr>\n",
       "\n",
       "\n",
       "      <th id=\"T_479c8__level0_row1\" class=\"row_heading level0 row1\" >1</th>\n",
       "\n",
       "      <td id=\"T_479c8__row1_col0\" class=\"data row1 col0\" >(0, 0)</td>\n",
       "\n",
       "      <td id=\"T_479c8__row1_col1\" class=\"data row1 col1\" >{2: 1, -2: 1}</td>\n",
       "\n",
       "      <td id=\"T_479c8__row1_col2\" class=\"data row1 col2\" >saddle</td>\n",
       "\n",
       "\n",
       "    </tr>\n",
       "\n",
       "\n",
       "\n",
       "  </tbody>\n",
       "\n",
       "</table>\n",
       "\n",
       "\n"
      ],
      "text/plain": [
       "<IPython.core.display.HTML object>"
      ]
     },
     "execution_count": 4,
     "metadata": {},
     "output_type": "execute_result"
    }
   ],
   "source": [
    "f=y**2*(x-1)+x**2*(x+1)\n",
    "\n",
    "exFinder(f)"
   ]
  },
  {
   "cell_type": "code",
   "execution_count": 5,
   "metadata": {},
   "outputs": [
    {
     "data": {
      "text/html": [
       "\n",
       "\n",
       "<h1>$f(x,y)=e^{- x^{2} - y^{2}}, H_f=\\left[\\begin{matrix}2 \\left(3 x + 1\\right) & 2 y\\\\2 y & 2 \\left(x - 1\\right)\\end{matrix}\\right]$</h1>\n",
       "\n",
       "\n",
       "<table id=\"T_38e1c_\">\n",
       "\n",
       "\n",
       "\n",
       "\n",
       "\n",
       "  <thead>\n",
       "\n",
       "\n",
       "\n",
       "    <tr>\n",
       "\n",
       "\n",
       "\n",
       "      <th class=\"blank level0\" ></th>\n",
       "\n",
       "\n",
       "\n",
       "      <th class=\"col_heading level0 col0\" >stat Point</th>\n",
       "\n",
       "\n",
       "\n",
       "      <th class=\"col_heading level0 col1\" >Eigenvalues</th>\n",
       "\n",
       "\n",
       "\n",
       "      <th class=\"col_heading level0 col2\" >Type</th>\n",
       "\n",
       "\n",
       "\n",
       "    </tr>\n",
       "\n",
       "\n",
       "\n",
       "  </thead>\n",
       "\n",
       "\n",
       "  <tbody>\n",
       "\n",
       "\n",
       "\n",
       "    <tr>\n",
       "\n",
       "\n",
       "      <th id=\"T_38e1c__level0_row0\" class=\"row_heading level0 row0\" >0</th>\n",
       "\n",
       "      <td id=\"T_38e1c__row0_col0\" class=\"data row0 col0\" >(0, 0)</td>\n",
       "\n",
       "      <td id=\"T_38e1c__row0_col1\" class=\"data row0 col1\" >{-2: 2}</td>\n",
       "\n",
       "      <td id=\"T_38e1c__row0_col2\" class=\"data row0 col2\" >max</td>\n",
       "\n",
       "\n",
       "    </tr>\n",
       "\n",
       "\n",
       "\n",
       "  </tbody>\n",
       "\n",
       "</table>\n",
       "\n",
       "\n"
      ],
      "text/plain": [
       "<IPython.core.display.HTML object>"
      ]
     },
     "execution_count": 5,
     "metadata": {},
     "output_type": "execute_result"
    }
   ],
   "source": [
    "f = sym.exp(-(x**2+y**2))\n",
    "\n",
    "exFinder(f)"
   ]
  }
 ],
 "metadata": {
  "kernelspec": {
   "display_name": "Python 3",
   "language": "python",
   "name": "python3"
  },
  "language_info": {
   "codemirror_mode": {
    "name": "ipython",
    "version": 3
   },
   "file_extension": ".py",
   "mimetype": "text/x-python",
   "name": "python",
   "nbconvert_exporter": "python",
   "pygments_lexer": "ipython3",
   "version": "3.8.8"
  },
  "varInspector": {
   "cols": {
    "lenName": 16,
    "lenType": 16,
    "lenVar": 40
   },
   "kernels_config": {
    "python": {
     "delete_cmd_postfix": "",
     "delete_cmd_prefix": "del ",
     "library": "var_list.py",
     "varRefreshCmd": "print(var_dic_list())"
    },
    "r": {
     "delete_cmd_postfix": ") ",
     "delete_cmd_prefix": "rm(",
     "library": "var_list.r",
     "varRefreshCmd": "cat(var_dic_list()) "
    }
   },
   "types_to_exclude": [
    "module",
    "function",
    "builtin_function_or_method",
    "instance",
    "_Feature"
   ],
   "window_display": false
  }
 },
 "nbformat": 4,
 "nbformat_minor": 4
}
